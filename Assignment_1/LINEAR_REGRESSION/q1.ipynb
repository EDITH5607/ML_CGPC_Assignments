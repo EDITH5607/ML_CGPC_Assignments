{
 "cells": [
  {
   "cell_type": "markdown",
   "metadata": {},
   "source": [
    "### Linear Regression\n"
   ]
  },
  {
   "cell_type": "code",
   "execution_count": 1,
   "metadata": {},
   "outputs": [],
   "source": [
    "import numpy as np\n",
    "from sklearn.linear_model import LinearRegression\n",
    "from sklearn.metrics import r2_score,mean_squared_error\n",
    "import matplotlib.pyplot as plt\n",
    "\n"
   ]
  },
  {
   "cell_type": "code",
   "execution_count": 2,
   "metadata": {},
   "outputs": [
    {
     "name": "stdout",
     "output_type": "stream",
     "text": [
      "coefficients: [192.68653416]\n",
      "\n",
      "Intercept: -3227.879907776485\n",
      "\n",
      "Y_predicted: [ -915.64149789  1203.91037783  3323.46225356  5443.01412929\n",
      "  7562.56600501  9682.11788074 11801.66975647 13921.22163219\n",
      " 20472.56379353 22592.11566926]\n",
      "\n",
      "SSE: 4200322.583387672\n",
      "R_square:0.9924529470512246\n"
     ]
    }
   ],
   "source": [
    "X = np.array([[12],\n",
    "            [23],\n",
    "            [34],\n",
    "            [45], \n",
    "            [56], \n",
    "            [67], \n",
    "            [78], \n",
    "            [89], \n",
    "            [123], \n",
    "            [134]])\n",
    "Y = np.array([240, 1135, 2568, 4521, 7865, 9236, 11932, 14589, 19856, 23145])\n",
    "\n",
    "Model = LinearRegression()\n",
    "Model.fit(X,Y)\n",
    "\n",
    "y_predict = Model.predict(X)\n",
    "data_size = len(X)\n",
    "print(\"coefficients:\",Model.coef_)\n",
    "print(\"\\nIntercept:\",Model.intercept_)\n",
    "print(\"\\nY_predicted:\",y_predict)\n",
    "\n",
    "SSE_1 = mean_squared_error(Y,y_predict)*data_size #mean square error give the mean of all error we just mutliply with the size to get sum of error\n",
    "print(\"\\nSSE:\",SSE_1)\n",
    "\n",
    "R_square_1 = r2_score(Y,y_predict)\n",
    "print(f\"R_square:{R_square_1}\")\n",
    "\n"
   ]
  },
  {
   "cell_type": "markdown",
   "metadata": {},
   "source": [
    "### Polynomial Regression(Degree:2)"
   ]
  },
  {
   "cell_type": "code",
   "execution_count": 3,
   "metadata": {},
   "outputs": [
    {
     "name": "stdout",
     "output_type": "stream",
     "text": [
      "[[1.0000e+00 1.2000e+01 1.4400e+02]\n",
      " [1.0000e+00 2.3000e+01 5.2900e+02]\n",
      " [1.0000e+00 3.4000e+01 1.1560e+03]\n",
      " [1.0000e+00 4.5000e+01 2.0250e+03]\n",
      " [1.0000e+00 5.6000e+01 3.1360e+03]\n",
      " [1.0000e+00 6.7000e+01 4.4890e+03]\n",
      " [1.0000e+00 7.8000e+01 6.0840e+03]\n",
      " [1.0000e+00 8.9000e+01 7.9210e+03]\n",
      " [1.0000e+00 1.2300e+02 1.5129e+04]\n",
      " [1.0000e+00 1.3400e+02 1.7956e+04]]\n",
      "\n",
      "y_predict:[ -566.94987085  1362.52273001  3329.13440486  5332.8851537\n",
      "  7373.77497653  9451.80387336 11566.97184417 13719.27888898\n",
      " 20606.6691895  22910.90880973]\n",
      "\n",
      "Coefficient:[0.00000000e+00 1.70035246e+02 1.53467248e-01]\n",
      "\n",
      "Intercept:-2629.4721113594715\n",
      "\n",
      "SSE: 3737254.390144427\n",
      "\n",
      "R_square:0.9932849784259391\n"
     ]
    }
   ],
   "source": [
    "from sklearn.preprocessing import PolynomialFeatures\n",
    "\n",
    "\n",
    "poly_feature = PolynomialFeatures(degree=2) #initializong the number of features for the model\n",
    "x_2 = poly_feature.fit_transform(X) #transform the original data in the form of 2 degree[1,x,x^2] as 2d matrix\n",
    "print(x_2)\n",
    "model= LinearRegression()\n",
    "model.fit(x_2,Y)\n",
    "\n",
    "y2_predict = model.predict(x_2)\n",
    "print(f\"\\ny_predict:{y2_predict}\")\n",
    "\n",
    "print(f\"\\nCoefficient:{model.coef_}\")\n",
    "print(f\"\\nIntercept:{model.intercept_}\")\n",
    "SSE_2 = mean_squared_error(Y,y2_predict)*data_size #mean square error give the mean of all error we just mutliply with the size to get sum of error\n",
    "print(\"\\nSSE:\",SSE_2)\n",
    "\n",
    "R_square_2 = r2_score(Y,y2_predict)\n",
    "print(f\"\\nR_square:{R_square_2}\")"
   ]
  },
  {
   "cell_type": "code",
   "execution_count": 4,
   "metadata": {},
   "outputs": [
    {
     "name": "stdout",
     "output_type": "stream",
     "text": [
      "[[1.000000e+00 1.200000e+01 1.440000e+02 1.728000e+03]\n",
      " [1.000000e+00 2.300000e+01 5.290000e+02 1.216700e+04]\n",
      " [1.000000e+00 3.400000e+01 1.156000e+03 3.930400e+04]\n",
      " [1.000000e+00 4.500000e+01 2.025000e+03 9.112500e+04]\n",
      " [1.000000e+00 5.600000e+01 3.136000e+03 1.756160e+05]\n",
      " [1.000000e+00 6.700000e+01 4.489000e+03 3.007630e+05]\n",
      " [1.000000e+00 7.800000e+01 6.084000e+03 4.745520e+05]\n",
      " [1.000000e+00 8.900000e+01 7.921000e+03 7.049690e+05]\n",
      " [1.000000e+00 1.230000e+02 1.512900e+04 1.860867e+06]\n",
      " [1.000000e+00 1.340000e+02 1.795600e+04 2.406104e+06]]\n",
      "\n",
      "y_predict:[  -60.47613133  1278.67024851  2968.13897682  4937.84548286\n",
      "  7117.70519591  9437.63354525 11827.54596015 14217.35786988\n",
      " 20851.4921867  22511.08666525]\n",
      "Coefficient:[ 0.00000000e+00  5.82086124e+01  2.05315213e+00 -8.77592922e-03]\n",
      "Intercept:-1039.468580569308\n",
      "\n",
      "SSE: 2585783.3430112065\n",
      "R_square:0.9953539178440843\n"
     ]
    }
   ],
   "source": [
    "from sklearn.preprocessing import PolynomialFeatures\n",
    "\n",
    "\n",
    "poly_feature = PolynomialFeatures(degree=3) #initializong the number of features for the model\n",
    "x_3 = poly_feature.fit_transform(X) #transform the original data in the form of 2 degree[1,x,x^2] as 2d matrix\n",
    "print(x_3)\n",
    "\n",
    "model= LinearRegression()\n",
    "model.fit(x_3,Y)\n",
    "\n",
    "y3_predict = model.predict(x_3)\n",
    "print(f\"\\ny_predict:{y3_predict}\")\n",
    "\n",
    "print(f\"Coefficient:{model.coef_}\")\n",
    "print(f\"Intercept:{model.intercept_}\")\n",
    "\n",
    "SSE_3 = mean_squared_error(Y,y3_predict)*data_size #mean square error give the mean of all error we just mutliply with the size to get sum of error\n",
    "print(\"\\nSSE:\",SSE_3)\n",
    "\n",
    "R_square_3 = r2_score(Y,y3_predict)\n",
    "print(f\"R_square:{R_square_3}\")"
   ]
  },
  {
   "cell_type": "code",
   "execution_count": 5,
   "metadata": {},
   "outputs": [
    {
     "data": {
      "text/html": [
       "<div>\n",
       "<style scoped>\n",
       "    .dataframe tbody tr th:only-of-type {\n",
       "        vertical-align: middle;\n",
       "    }\n",
       "\n",
       "    .dataframe tbody tr th {\n",
       "        vertical-align: top;\n",
       "    }\n",
       "\n",
       "    .dataframe thead th {\n",
       "        text-align: right;\n",
       "    }\n",
       "</style>\n",
       "<table border=\"1\" class=\"dataframe\">\n",
       "  <thead>\n",
       "    <tr style=\"text-align: right;\">\n",
       "      <th></th>\n",
       "      <th>SSE</th>\n",
       "      <th>R_square</th>\n",
       "    </tr>\n",
       "  </thead>\n",
       "  <tbody>\n",
       "    <tr>\n",
       "      <th>Degree_1</th>\n",
       "      <td>4.200323e+06</td>\n",
       "      <td>0.992453</td>\n",
       "    </tr>\n",
       "    <tr>\n",
       "      <th>Degree_2</th>\n",
       "      <td>3.737254e+06</td>\n",
       "      <td>0.993285</td>\n",
       "    </tr>\n",
       "    <tr>\n",
       "      <th>Degree_3</th>\n",
       "      <td>2.585783e+06</td>\n",
       "      <td>0.995354</td>\n",
       "    </tr>\n",
       "  </tbody>\n",
       "</table>\n",
       "</div>"
      ],
      "text/plain": [
       "                   SSE  R_square\n",
       "Degree_1  4.200323e+06  0.992453\n",
       "Degree_2  3.737254e+06  0.993285\n",
       "Degree_3  2.585783e+06  0.995354"
      ]
     },
     "execution_count": 5,
     "metadata": {},
     "output_type": "execute_result"
    }
   ],
   "source": [
    "import pandas as pd\n",
    "data={\n",
    "    'SSE':[SSE_1, SSE_2, SSE_3],\n",
    "    'R_square':[R_square_1,R_square_2,R_square_3]\n",
    "}\n",
    "df=pd.DataFrame(data,index=[\"Degree_1\",\"Degree_2\",\"Degree_3\"])\n",
    "df"
   ]
  }
 ],
 "metadata": {
  "kernelspec": {
   "display_name": "Python 3 (ipykernel)",
   "language": "python",
   "name": "python3"
  },
  "language_info": {
   "codemirror_mode": {
    "name": "ipython",
    "version": 3
   },
   "file_extension": ".py",
   "mimetype": "text/x-python",
   "name": "python",
   "nbconvert_exporter": "python",
   "pygments_lexer": "ipython3",
   "version": "3.11.7"
  }
 },
 "nbformat": 4,
 "nbformat_minor": 4
}
