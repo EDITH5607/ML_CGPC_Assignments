{
 "cells": [
  {
   "cell_type": "markdown",
   "metadata": {},
   "source": [
    "## Gradient descent"
   ]
  },
  {
   "cell_type": "code",
   "execution_count": 2,
   "metadata": {},
   "outputs": [],
   "source": [
    "import numpy as np\n",
    "\n",
    "\n",
    "x_data = np.array([12, 23, 34, 45, 56, 67, 78, 89, 123, 134])\n",
    "y_data = np.array([240, 1135, 2568, 4521, 7865, 9236, 11932, 14589, 19856, 23145])\n",
    "\n",
    "def gradient(x,y,a,b):\n",
    "    m = x.shape[0]\n",
    "    dj_da = 0\n",
    "    dj_db = 0\n",
    "    for i in range(m):\n",
    "        f_x = a*x[i] + b\n",
    "        dj_da = dj_da + (f_x - y[i])* x[i]\n",
    "        dj_db = dj_db + f_x - y[i]\n",
    "\n",
    "    dj_db/=m\n",
    "    dj_da/=m\n",
    "    return dj_da,dj_db\n",
    "\n",
    "\n",
    "def gradient_descent(x,y,a_init,b_init,alpha,epoches):\n",
    "    a = a_init\n",
    "    b = b_init\n",
    "    \n",
    "    for i in range(epoches):\n",
    "\n",
    "        dj_da,dj_db =gradient(x,y,a,b)\n",
    "        a = a - alpha*dj_da\n",
    "        b = b- alpha *dj_db\n",
    "\n",
    "    return a,b\n",
    "\n",
    "#a,b =gradient_descent(x_data, y_data, 180, -200, 0.01,1000)\n",
    "## directly giving we get a overflow error\n",
    "#we use standardization for this purpose\n",
    "\n",
    "\n",
    "    "
   ]
  },
  {
   "cell_type": "code",
   "execution_count": 3,
   "metadata": {},
   "outputs": [
    {
     "name": "stdout",
     "output_type": "stream",
     "text": [
      "a:192.67821563894287\n",
      "b:-3227.330053734124\n"
     ]
    }
   ],
   "source": [
    "x_mean = np.mean(x_data)\n",
    "x_std = np.std(x_data)\n",
    "y_mean = np.mean(y_data)\n",
    "y_std = np.std(y_data)\n",
    "x_stand = (x_data - x_mean) / x_std ##standarzied x\n",
    "y_stand = (y_data - y_mean) / y_std ## standardized y\n",
    "\n",
    "a,b = gradient_descent(x_stand,y_stand,0,0,0.01,1000)\n",
    "a_original = a*(y_std/x_std) # transform it into original a value\n",
    "b_original = (b * y_std) + y_mean - a_original *x_mean # transform it into original b value\n",
    "print(f\"a:{a_original}\")\n",
    "print(f\"b:{b_original}\")"
   ]
  }
 ],
 "metadata": {
  "kernelspec": {
   "display_name": "base",
   "language": "python",
   "name": "python3"
  },
  "language_info": {
   "codemirror_mode": {
    "name": "ipython",
    "version": 3
   },
   "file_extension": ".py",
   "mimetype": "text/x-python",
   "name": "python",
   "nbconvert_exporter": "python",
   "pygments_lexer": "ipython3",
   "version": "3.11.7"
  }
 },
 "nbformat": 4,
 "nbformat_minor": 2
}
