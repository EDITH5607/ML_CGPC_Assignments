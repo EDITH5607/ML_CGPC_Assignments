{
 "cells": [
  {
   "cell_type": "markdown",
   "id": "a1eca97f-91dc-4548-86a2-f38cb699786d",
   "metadata": {},
   "source": [
    "The validaton data set is the data set which is the subset of the given data .The validation data set is used to fine-tune the model's hyperparameters, performance, and prevent overfitting during the training phase"
   ]
  }
 ],
 "metadata": {
  "kernelspec": {
   "display_name": "Python (base)",
   "language": "python",
   "name": "base"
  },
  "language_info": {
   "codemirror_mode": {
    "name": "ipython",
    "version": 3
   },
   "file_extension": ".py",
   "mimetype": "text/x-python",
   "name": "python",
   "nbconvert_exporter": "python",
   "pygments_lexer": "ipython3",
   "version": "3.11.7"
  }
 },
 "nbformat": 4,
 "nbformat_minor": 5
}
